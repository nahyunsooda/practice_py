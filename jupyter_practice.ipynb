{
 "cells": [
  {
   "cell_type": "markdown",
   "metadata": {},
   "source": [
    "## Hello, world! 출력\n",
    "print Hello, world! with print fuction"
   ]
  },
  {
   "cell_type": "code",
   "execution_count": 1,
   "metadata": {},
   "outputs": [
    {
     "name": "stdout",
     "output_type": "stream",
     "text": [
      "Hello, world!\n"
     ]
    }
   ],
   "source": [
    "print(\"Hello, world!\")"
   ]
  },
  {
   "cell_type": "markdown",
   "metadata": {},
   "source": [
    "## 연습문제 01"
   ]
  },
  {
   "cell_type": "code",
   "execution_count": 2,
   "metadata": {},
   "outputs": [
    {
     "name": "stdout",
     "output_type": "stream",
     "text": [
      "주식은 대박이다.\n"
     ]
    }
   ],
   "source": [
    "print(\"주식은 대박이다.\")"
   ]
  },
  {
   "cell_type": "code",
   "execution_count": 3,
   "metadata": {},
   "outputs": [
    {
     "name": "stdout",
     "output_type": "stream",
     "text": [
      "I love 'you'\n"
     ]
    }
   ],
   "source": [
    "print(\"I love 'you'\")"
   ]
  },
  {
   "cell_type": "code",
   "execution_count": 4,
   "metadata": {},
   "outputs": [
    {
     "ename": "SyntaxError",
     "evalue": "EOL while scanning string literal (<ipython-input-4-48f8aa2c1cab>, line 1)",
     "output_type": "error",
     "traceback": [
      "\u001b[1;36m  File \u001b[1;32m\"<ipython-input-4-48f8aa2c1cab>\"\u001b[1;36m, line \u001b[1;32m1\u001b[0m\n\u001b[1;33m    print(\"I like you')\u001b[0m\n\u001b[1;37m                       ^\u001b[0m\n\u001b[1;31mSyntaxError\u001b[0m\u001b[1;31m:\u001b[0m EOL while scanning string literal\n"
     ]
    }
   ],
   "source": [
    "print(\"I like you')"
   ]
  },
  {
   "cell_type": "code",
   "execution_count": 5,
   "metadata": {},
   "outputs": [
    {
     "name": "stdout",
     "output_type": "stream",
     "text": [
      "Korea\n"
     ]
    }
   ],
   "source": [
    "print('Korea')"
   ]
  },
  {
   "cell_type": "code",
   "execution_count": 6,
   "metadata": {},
   "outputs": [
    {
     "ename": "SyntaxError",
     "evalue": "invalid syntax (<ipython-input-6-817926f202ed>, line 1)",
     "output_type": "error",
     "traceback": [
      "\u001b[1;36m  File \u001b[1;32m\"<ipython-input-6-817926f202ed>\"\u001b[1;36m, line \u001b[1;32m1\u001b[0m\n\u001b[1;33m    print{Hello}\u001b[0m\n\u001b[1;37m         ^\u001b[0m\n\u001b[1;31mSyntaxError\u001b[0m\u001b[1;31m:\u001b[0m invalid syntax\n"
     ]
    }
   ],
   "source": [
    "print{Hello}"
   ]
  },
  {
   "cell_type": "code",
   "execution_count": 7,
   "metadata": {},
   "outputs": [
    {
     "ename": "NameError",
     "evalue": "name 'Hello' is not defined",
     "output_type": "error",
     "traceback": [
      "\u001b[1;31m---------------------------------------------------------------------------\u001b[0m",
      "\u001b[1;31mNameError\u001b[0m                                 Traceback (most recent call last)",
      "\u001b[1;32m<ipython-input-7-27eb88f266c4>\u001b[0m in \u001b[0;36m<module>\u001b[1;34m\u001b[0m\n\u001b[1;32m----> 1\u001b[1;33m \u001b[0mprint\u001b[0m\u001b[1;33m[\u001b[0m\u001b[0mHello\u001b[0m\u001b[1;33m]\u001b[0m\u001b[1;33m\u001b[0m\u001b[1;33m\u001b[0m\u001b[0m\n\u001b[0m",
      "\u001b[1;31mNameError\u001b[0m: name 'Hello' is not defined"
     ]
    }
   ],
   "source": [
    "print[Hello]"
   ]
  },
  {
   "cell_type": "markdown",
   "metadata": {},
   "source": [
    "## 연습문제 02"
   ]
  },
  {
   "cell_type": "code",
   "execution_count": 8,
   "metadata": {},
   "outputs": [
    {
     "name": "stdout",
     "output_type": "stream",
     "text": [
      "23920000\n"
     ]
    }
   ],
   "source": [
    "price_Daum = 89000\n",
    "price_Naver = 751000\n",
    "print(price_Daum*100+price_Naver*20)"
   ]
  },
  {
   "cell_type": "code",
   "execution_count": 9,
   "metadata": {},
   "outputs": [
    {
     "name": "stdout",
     "output_type": "stream",
     "text": [
      "89000\n"
     ]
    }
   ],
   "source": [
    "print(price_Daum)"
   ]
  },
  {
   "cell_type": "code",
   "execution_count": 10,
   "metadata": {},
   "outputs": [
    {
     "name": "stdout",
     "output_type": "stream",
     "text": [
      "손실액 = %s 1947000.0\n"
     ]
    }
   ],
   "source": [
    "loss = price_Daum*100*0.05 + price_Naver*20*0.1\n",
    "print('손실액 = %s', loss)"
   ]
  },
  {
   "cell_type": "code",
   "execution_count": 11,
   "metadata": {},
   "outputs": [
    {
     "name": "stdout",
     "output_type": "stream",
     "text": [
      "손실액 =  1947000.0\n"
     ]
    }
   ],
   "source": [
    "print('손실액 = ', loss)"
   ]
  },
  {
   "cell_type": "code",
   "execution_count": 12,
   "metadata": {},
   "outputs": [
    {
     "name": "stdout",
     "output_type": "stream",
     "text": [
      "10.0\n"
     ]
    }
   ],
   "source": [
    "f = 50\n",
    "c = (f-32)/1.8\n",
    "print(c)"
   ]
  },
  {
   "cell_type": "code",
   "execution_count": 13,
   "metadata": {},
   "outputs": [
    {
     "name": "stdout",
     "output_type": "stream",
     "text": [
      "pizza\n",
      "pizza\n",
      "pizza\n",
      "pizza\n",
      "pizza\n",
      "pizza\n",
      "pizza\n",
      "pizza\n",
      "pizza\n",
      "pizza\n"
     ]
    }
   ],
   "source": [
    "for i in range(0,10):\n",
    "    print('pizza')"
   ]
  },
  {
   "cell_type": "code",
   "execution_count": 14,
   "metadata": {},
   "outputs": [
    {
     "name": "stdout",
     "output_type": "stream",
     "text": [
      "342999.99999999994\n"
     ]
    }
   ],
   "source": [
    "print(1000000*0.7*0.7*0.7)"
   ]
  },
  {
   "cell_type": "code",
   "execution_count": 15,
   "metadata": {},
   "outputs": [
    {
     "name": "stdout",
     "output_type": "stream",
     "text": [
      "이름:파이썬\n",
      "생년월일:2014년 12월 12일\n",
      "주민등록번호:20141212-1623210\n"
     ]
    }
   ],
   "source": [
    "print('이름:파이썬')\n",
    "print('생년월일:2014년 12월 12일')\n",
    "print('주민등록번호:20141212-1623210')"
   ]
  },
  {
   "cell_type": "code",
   "execution_count": 16,
   "metadata": {},
   "outputs": [
    {
     "name": "stdout",
     "output_type": "stream",
     "text": [
      "Kakao Daum\n"
     ]
    }
   ],
   "source": [
    "s='Daum Kakao'\n",
    "print(s[5:], s[:4])"
   ]
  },
  {
   "cell_type": "code",
   "execution_count": 17,
   "metadata": {},
   "outputs": [
    {
     "name": "stdout",
     "output_type": "stream",
     "text": [
      "hi world\n"
     ]
    }
   ],
   "source": [
    "a='hello world'\n",
    "b='hi'\n",
    "a=b+' '+a[6:]\n",
    "print(a)"
   ]
  },
  {
   "cell_type": "code",
   "execution_count": 18,
   "metadata": {},
   "outputs": [
    {
     "name": "stdout",
     "output_type": "stream",
     "text": [
      "bcdefa\n"
     ]
    }
   ],
   "source": [
    "x='abcdef'\n",
    "x= x[1:]+x[0:1]\n",
    "print(x)"
   ]
  },
  {
   "cell_type": "markdown",
   "metadata": {},
   "source": [
    "## 연습문제 03"
   ]
  },
  {
   "cell_type": "code",
   "execution_count": 19,
   "metadata": {},
   "outputs": [
    {
     "name": "stdout",
     "output_type": "stream",
     "text": [
      "[488500, 500500, 501000, 461500, 474500]\n"
     ]
    }
   ],
   "source": [
    "naver_closing_price = [488500,500500,501000,461500,474500]\n",
    "print(naver_closing_price)"
   ]
  },
  {
   "cell_type": "code",
   "execution_count": 20,
   "metadata": {},
   "outputs": [
    {
     "name": "stdout",
     "output_type": "stream",
     "text": [
      "501000\n"
     ]
    }
   ],
   "source": [
    "print(max(naver_closing_price))"
   ]
  },
  {
   "cell_type": "code",
   "execution_count": 21,
   "metadata": {},
   "outputs": [
    {
     "name": "stdout",
     "output_type": "stream",
     "text": [
      "461500\n"
     ]
    }
   ],
   "source": [
    "print(min(naver_closing_price))"
   ]
  },
  {
   "cell_type": "code",
   "execution_count": 22,
   "metadata": {},
   "outputs": [
    {
     "name": "stdout",
     "output_type": "stream",
     "text": [
      "39500\n"
     ]
    }
   ],
   "source": [
    "print(max(naver_closing_price)-min(naver_closing_price))"
   ]
  },
  {
   "cell_type": "code",
   "execution_count": 23,
   "metadata": {},
   "outputs": [
    {
     "name": "stdout",
     "output_type": "stream",
     "text": [
      "501000\n"
     ]
    }
   ],
   "source": [
    "print(naver_closing_price[2])"
   ]
  },
  {
   "cell_type": "code",
   "execution_count": 24,
   "metadata": {},
   "outputs": [
    {
     "name": "stdout",
     "output_type": "stream",
     "text": [
      "{'09/07': 474500, '09/08': 461500, '09/09': 501000, '09/10': 500500, '09/11': 488500}\n"
     ]
    }
   ],
   "source": [
    "naver_closing_price2 = {'09/07':474500, '09/08':461500, '09/09':501000, '09/10': 500500, '09/11':488500}\n",
    "print(naver_closing_price2)"
   ]
  },
  {
   "cell_type": "code",
   "execution_count": 42,
   "metadata": {},
   "outputs": [
    {
     "name": "stdout",
     "output_type": "stream",
     "text": [
      "501000\n"
     ]
    }
   ],
   "source": [
    "print(naver_closing_price2['09/09'])"
   ]
  },
  {
   "cell_type": "markdown",
   "metadata": {},
   "source": [
    "## 연습문제 04"
   ]
  },
  {
   "cell_type": "code",
   "execution_count": 26,
   "metadata": {},
   "outputs": [
    {
     "name": "stdout",
     "output_type": "stream",
     "text": [
      "*****"
     ]
    }
   ],
   "source": [
    "for i in range(0,5):\n",
    "    print('*', end='')"
   ]
  },
  {
   "cell_type": "code",
   "execution_count": 27,
   "metadata": {},
   "outputs": [
    {
     "name": "stdout",
     "output_type": "stream",
     "text": [
      "****\n",
      "****\n",
      "****\n",
      "****\n",
      "****\n"
     ]
    }
   ],
   "source": [
    "for i in range(0,5):\n",
    "    for j in range(0,4):\n",
    "        print('*', end='')\n",
    "    print('')"
   ]
  },
  {
   "cell_type": "code",
   "execution_count": 28,
   "metadata": {},
   "outputs": [
    {
     "name": "stdout",
     "output_type": "stream",
     "text": [
      "*****\n",
      "*****\n",
      "*****\n",
      "*****\n"
     ]
    }
   ],
   "source": [
    "for i in range(0,4):\n",
    "    for j in range(0,5):\n",
    "        print('*', end='')\n",
    "    print('')"
   ]
  },
  {
   "cell_type": "code",
   "execution_count": 29,
   "metadata": {},
   "outputs": [
    {
     "name": "stdout",
     "output_type": "stream",
     "text": [
      "\n",
      "*\n",
      "**\n",
      "***\n",
      "****\n"
     ]
    }
   ],
   "source": [
    "for i in range(0,5):\n",
    "    for j in range(0,i):\n",
    "        print('*', end='')\n",
    "    print('')"
   ]
  },
  {
   "cell_type": "code",
   "execution_count": 30,
   "metadata": {},
   "outputs": [
    {
     "name": "stdout",
     "output_type": "stream",
     "text": [
      "\n",
      "*\n",
      "**\n",
      "***\n",
      "****\n"
     ]
    }
   ],
   "source": [
    "for i in range(0,5):\n",
    "    for j in range(1,i+1):\n",
    "        print('*', end='')\n",
    "    print('')"
   ]
  },
  {
   "cell_type": "code",
   "execution_count": 31,
   "metadata": {},
   "outputs": [
    {
     "name": "stdout",
     "output_type": "stream",
     "text": [
      "*\n",
      "**\n",
      "***\n",
      "****\n",
      "*****\n"
     ]
    }
   ],
   "source": [
    "for i in range(0,5):\n",
    "    for j in range(0,i+1):\n",
    "        print('*', end='')\n",
    "    print('')"
   ]
  },
  {
   "cell_type": "code",
   "execution_count": 32,
   "metadata": {},
   "outputs": [],
   "source": [
    "for i in range(5,0):\n",
    "    for j in range(0,i+1):\n",
    "        print('*', end='')\n",
    "    print('')"
   ]
  },
  {
   "cell_type": "code",
   "execution_count": 33,
   "metadata": {},
   "outputs": [
    {
     "name": "stdout",
     "output_type": "stream",
     "text": [
      "******\n",
      "*****\n",
      "****\n",
      "***\n",
      "**\n"
     ]
    }
   ],
   "source": [
    "i = 5\n",
    "while i > 0:\n",
    "    for j in range(0,i+1):\n",
    "        print('*', end='')\n",
    "    print('')\n",
    "    i -= 1"
   ]
  },
  {
   "cell_type": "code",
   "execution_count": 36,
   "metadata": {},
   "outputs": [
    {
     "name": "stdout",
     "output_type": "stream",
     "text": [
      "    *\n",
      "   **\n",
      "  ***\n",
      " ****\n",
      "*****\n"
     ]
    }
   ],
   "source": [
    "for i in range(5):\n",
    "    for j in range(4-i):\n",
    "        print(end=' ')\n",
    "    for j in range(i+1):\n",
    "        print('*', end='')\n",
    "    print('')\n"
   ]
  },
  {
   "cell_type": "code",
   "execution_count": 37,
   "metadata": {},
   "outputs": [
    {
     "name": "stdout",
     "output_type": "stream",
     "text": [
      "*****\n",
      " ****\n",
      "  ***\n",
      "   **\n",
      "    *\n"
     ]
    }
   ],
   "source": [
    "for i in range(5):\n",
    "    for j in range(i):\n",
    "        print(end=' ')\n",
    "    for j in range(5-i):\n",
    "        print('*', end='')\n",
    "    print('')\n"
   ]
  },
  {
   "cell_type": "code",
   "execution_count": 38,
   "metadata": {},
   "outputs": [
    {
     "name": "stdout",
     "output_type": "stream",
     "text": [
      "    *\n",
      "   ***\n",
      "  *****\n",
      " *******\n",
      "*********\n"
     ]
    }
   ],
   "source": [
    "for i in range(5):\n",
    "    for j in range(4-i):\n",
    "        print(end=' ')\n",
    "    for j in range(i*2+1):\n",
    "        print('*', end='')\n",
    "    print('')"
   ]
  },
  {
   "cell_type": "code",
   "execution_count": 40,
   "metadata": {},
   "outputs": [
    {
     "name": "stdout",
     "output_type": "stream",
     "text": [
      "*********\n",
      " *******\n",
      "  *****\n",
      "   ***\n",
      "    *\n"
     ]
    }
   ],
   "source": [
    "for i in range(5):\n",
    "    for j in range(i):\n",
    "        print(end=' ')\n",
    "    for j in range((4-i)*2+1):\n",
    "        print('*', end='')\n",
    "    print('')"
   ]
  },
  {
   "cell_type": "code",
   "execution_count": 41,
   "metadata": {},
   "outputs": [
    {
     "name": "stdout",
     "output_type": "stream",
     "text": [
      "102\n",
      "103\n",
      "104\n",
      "201\n",
      "202\n",
      "204\n",
      "302\n",
      "303\n",
      "304\n",
      "401\n",
      "402\n",
      "403\n"
     ]
    }
   ],
   "source": [
    "apart = [[101, 102, 103, 104],[201, 202, 203, 204],[301, 302, 303, 304], [401, 402, 403, 404]]\n",
    "arrears = [101, 203, 301, 404]\n",
    "for floor in apart:\n",
    "    for house in floor:\n",
    "        if house in arrears:\n",
    "            continue\n",
    "        else:\n",
    "            print(house)"
   ]
  },
  {
   "cell_type": "markdown",
   "metadata": {},
   "source": [
    "## 연습문제 05"
   ]
  },
  {
   "cell_type": "code",
   "execution_count": 43,
   "metadata": {},
   "outputs": [
    {
     "name": "stdout",
     "output_type": "stream",
     "text": [
      "3.0\n"
     ]
    }
   ],
   "source": [
    "def myaverage(a,b):\n",
    "    print((a+b)/2)\n",
    "\n",
    "myaverage(2,4)"
   ]
  },
  {
   "cell_type": "code",
   "execution_count": 47,
   "metadata": {},
   "outputs": [
    {
     "name": "stdout",
     "output_type": "stream",
     "text": [
      "9 1\n"
     ]
    }
   ],
   "source": [
    "def get_max_min(data_list):\n",
    "    print(max(data_list), min(data_list))\n",
    "get_max_min([1,2,3,4,5,6,7,9])"
   ]
  },
  {
   "cell_type": "code",
   "execution_count": 50,
   "metadata": {},
   "outputs": [
    {
     "name": "stdout",
     "output_type": "stream",
     "text": [
      "LICENSE.txt\n"
     ]
    }
   ],
   "source": [
    "import os\n",
    "\n",
    "def get_txt_list(path):\n",
    "    for x in os.listdir(path):\n",
    "        if x.endswith('txt'):\n",
    "            print(x)\n",
    "\n",
    "get_txt_list('C:\\Program Files\\Git')"
   ]
  },
  {
   "cell_type": "code",
   "execution_count": 59,
   "metadata": {},
   "outputs": [
    {
     "name": "stdout",
     "output_type": "stream",
     "text": [
      "고도비만\n",
      "비만\n",
      "표준\n",
      "마른체형\n"
     ]
    }
   ],
   "source": [
    "def BMI(weight, height):\n",
    "    b = weight / ((height/100) * (height/100))\n",
    "    if b < 18.5:\n",
    "        print('마른체형')\n",
    "    elif 18.5 <= b <25.0:\n",
    "        print('표준')\n",
    "    elif 25.0 <= b <30.0:\n",
    "        print('비만')\n",
    "    else:\n",
    "        print('고도비만')\n",
    "\n",
    "BMI(100,180)\n",
    "BMI(90,180)\n",
    "BMI(80,180)\n",
    "BMI(50,180)"
   ]
  },
  {
   "cell_type": "code",
   "execution_count": 64,
   "metadata": {},
   "outputs": [
    {
     "name": "stdout",
     "output_type": "stream",
     "text": [
      "Weight?100\n",
      "Height?180\n",
      "고도비만\n"
     ]
    }
   ],
   "source": [
    "def BMI(weight, height):\n",
    "    b = weight / ((height/100) * (height/100))\n",
    "    if b < 18.5:\n",
    "        print('마른체형')\n",
    "    elif 18.5 <= b <25.0:\n",
    "        print('표준')\n",
    "    elif 25.0 <= b <30.0:\n",
    "        print('비만')\n",
    "    else:\n",
    "        print('고도비만')\n",
    "\n",
    "while(1):\n",
    "    weight = input(\"Weight?\")\n",
    "    height = input(\"Height?\")\n",
    "    BMI(float(weight), float(height))\n",
    "    break"
   ]
  },
  {
   "cell_type": "code",
   "execution_count": 65,
   "metadata": {},
   "outputs": [
    {
     "name": "stdout",
     "output_type": "stream",
     "text": [
      "4.0\n"
     ]
    }
   ],
   "source": [
    "def get_triange_area(width,height):\n",
    "    print(width*height/2)\n",
    "\n",
    "get_triange_area(2,4)"
   ]
  },
  {
   "cell_type": "code",
   "execution_count": 73,
   "metadata": {},
   "outputs": [
    {
     "name": "stdout",
     "output_type": "stream",
     "text": [
      "5050\n"
     ]
    }
   ],
   "source": [
    "def add_start_to_end(start, end):\n",
    "    total = 0\n",
    "    for i in range(start, end+1):\n",
    "        total = total+i\n",
    "    print(total)\n",
    "add_start_to_end(1,100)"
   ]
  },
  {
   "cell_type": "code",
   "execution_count": 70,
   "metadata": {},
   "outputs": [
    {
     "name": "stdout",
     "output_type": "stream",
     "text": [
      "['New', 'Seo', 'Dae', 'Gwa']\n"
     ]
    }
   ],
   "source": [
    "def abb_three(cities):\n",
    "    abb_cities = []\n",
    "    for city in cities:\n",
    "        abb_cities.append(city[0:3])\n",
    "    print(abb_cities)\n",
    "abb_three(['NewYork', 'Seoul', 'Daegu', 'Gwangju'])"
   ]
  },
  {
   "cell_type": "markdown",
   "metadata": {},
   "source": [
    "## 06. 파이썬 클래스"
   ]
  },
  {
   "cell_type": "code",
   "execution_count": 74,
   "metadata": {},
   "outputs": [
    {
     "name": "stdout",
     "output_type": "stream",
     "text": [
      "-------------------------\n",
      "Name: kimyuna\n",
      "E-mail: yunakim@naver.com\n",
      "Office Address: seoul\n",
      "-------------------------\n"
     ]
    }
   ],
   "source": [
    "name = \"kimyuna\"\n",
    "email = \"yunakim@naver.com\"\n",
    "addr = \"seoul\"\n",
    "\n",
    "def print_business_card(name, email, addr):\n",
    "        print(\"-------------------------\")\n",
    "        print(\"Name: %s\" % name)\n",
    "        print(\"E-mail: %s\" % email)\n",
    "        print(\"Office Address: %s\" % addr)\n",
    "        print(\"-------------------------\")\n",
    "    \n",
    "print_business_card(name, email, addr)"
   ]
  },
  {
   "cell_type": "code",
   "execution_count": 77,
   "metadata": {},
   "outputs": [
    {
     "data": {
      "text/plain": [
       "<__main__.BusinessCard at 0xb566f0>"
      ]
     },
     "execution_count": 77,
     "metadata": {},
     "output_type": "execute_result"
    }
   ],
   "source": [
    "class BusinessCard:\n",
    "    pass\n",
    "card1 = BusinessCard()\n",
    "card1"
   ]
  },
  {
   "cell_type": "code",
   "execution_count": 78,
   "metadata": {},
   "outputs": [
    {
     "data": {
      "text/plain": [
       "__main__.BusinessCard"
      ]
     },
     "execution_count": 78,
     "metadata": {},
     "output_type": "execute_result"
    }
   ],
   "source": [
    "type(card1)"
   ]
  },
  {
   "cell_type": "code",
   "execution_count": 79,
   "metadata": {},
   "outputs": [
    {
     "data": {
      "text/plain": [
       "<__main__.BusinessCard at 0xb56dd0>"
      ]
     },
     "execution_count": 79,
     "metadata": {},
     "output_type": "execute_result"
    }
   ],
   "source": [
    "class BusinessCard:\n",
    "        def set_info(self, name, email, addr):\n",
    "                self.name = name\n",
    "                self.email = email\n",
    "                self.addr = addr\n",
    "member1 = BusinessCard()\n",
    "member1"
   ]
  },
  {
   "cell_type": "code",
   "execution_count": 80,
   "metadata": {},
   "outputs": [
    {
     "name": "stdout",
     "output_type": "stream",
     "text": [
      "Yuna Kim\n",
      "yunakim@naver.com\n",
      "Seoul\n"
     ]
    }
   ],
   "source": [
    "member1.set_info(\"Yuna Kim\", \"yunakim@naver.com\", \"Seoul\")\n",
    "print(member1.name)\n",
    "print(member1.email)\n",
    "print(member1.addr)"
   ]
  },
  {
   "cell_type": "code",
   "execution_count": 81,
   "metadata": {},
   "outputs": [
    {
     "name": "stdout",
     "output_type": "stream",
     "text": [
      "Sarang Lee\n",
      "sarang.lee@naver.com\n",
      "Kyunggi\n"
     ]
    }
   ],
   "source": [
    "member2 = BusinessCard()\n",
    "member2.set_info(\"Sarang Lee\", \"sarang.lee@naver.com\", \"Kyunggi\")\n",
    "print(member2.name)\n",
    "print(member2.email)\n",
    "print(member2.addr)"
   ]
  },
  {
   "cell_type": "code",
   "execution_count": 82,
   "metadata": {},
   "outputs": [
    {
     "name": "stdout",
     "output_type": "stream",
     "text": [
      "--------------------\n",
      "Name:  YunaKim\n",
      "E-mail:  yuna.kim@naver.com\n",
      "Address:  Seoul\n",
      "--------------------\n"
     ]
    }
   ],
   "source": [
    "class BusinessCard:\n",
    "    def set_info(self, name, email, addr):\n",
    "        self.name = name\n",
    "        self.email = email\n",
    "        self.addr = addr\n",
    "    def print_info(self):\n",
    "        print(\"--------------------\")\n",
    "        print(\"Name: \", self.name)\n",
    "        print(\"E-mail: \", self.email)\n",
    "        print(\"Address: \", self.addr)\n",
    "        print(\"--------------------\")\n",
    "\n",
    "member1 = BusinessCard()\n",
    "member1.set_info(\"YunaKim\", \"yuna.kim@naver.com\", \"Seoul\")\n",
    "member1.print_info()\n"
   ]
  },
  {
   "cell_type": "code",
   "execution_count": 84,
   "metadata": {},
   "outputs": [
    {
     "name": "stdout",
     "output_type": "stream",
     "text": [
      "객체가 생성되었습니다.\n"
     ]
    }
   ],
   "source": [
    "class MyClass:\n",
    "        def __init__(self):\n",
    "                print(\"객체가 생성되었습니다.\")\n",
    "inst1 = MyClass()"
   ]
  },
  {
   "cell_type": "code",
   "execution_count": 88,
   "metadata": {},
   "outputs": [
    {
     "name": "stdout",
     "output_type": "stream",
     "text": [
      "객체생성완료\n"
     ]
    }
   ],
   "source": [
    "class BusinessCard:\n",
    "        def __init__(self, name, email, addr):\n",
    "                self.name = name\n",
    "                self.email = email\n",
    "                self.addr = addr\n",
    "                print(\"객체생성완료\")\n",
    "        def print_info(self):\n",
    "                print(\"--------------------\")\n",
    "                print(\"Name: \", self.name)\n",
    "                print(\"E-mail: \", self.email)\n",
    "                print(\"Address: \", self.addr)\n",
    "                print(\"--------------------\")\n",
    "\n",
    "member1 = BusinessCard('a', 'b', 'c')"
   ]
  },
  {
   "cell_type": "code",
   "execution_count": 96,
   "metadata": {},
   "outputs": [
    {
     "name": "stdout",
     "output_type": "stream",
     "text": [
      "<class '__main__.Stock'>\n",
      "94882000\n",
      "94880656\n",
      "{}\n",
      "{}\n",
      "{'market': 'kosdaq'}\n",
      "{}\n",
      "kosdaq\n",
      "kospi\n"
     ]
    }
   ],
   "source": [
    "class Stock:\n",
    "    market = \"kospi\"\n",
    "print(Stock)\n",
    "s1=Stock()\n",
    "s2=Stock()\n",
    "print(id(s1))\n",
    "print(id(s2))\n",
    "print(s1.__dict__)\n",
    "print(s2.__dict__)\n",
    "s1.market='kosdaq'\n",
    "print(s1.__dict__)\n",
    "print(s2.__dict__)\n",
    "print(s1.market)\n",
    "print(s2.market)\n"
   ]
  },
  {
   "cell_type": "code",
   "execution_count": 98,
   "metadata": {},
   "outputs": [
    {
     "name": "stdout",
     "output_type": "stream",
     "text": [
      "0\n",
      "kim\n",
      "lee\n",
      "0\n",
      "0\n",
      "0\n"
     ]
    }
   ],
   "source": [
    "class Account:\n",
    "        num_accounts = 0\n",
    "        def __init__(self, name):\n",
    "                self.name = name\n",
    "                Account.num_accounts += 1\n",
    "        def __del__(self):\n",
    "                Account.num_accounts -= 1\n",
    "\n",
    "print(Account.num_accounts)\n",
    "kim = Account(\"kim\")\n",
    "lee = Account(\"lee\")\n",
    "\n",
    "print(kim.name)\n",
    "print(lee.name)\n",
    "\n",
    "print(kim.num_accounts)\n",
    "print(lee.num_accounts)\n",
    "print(Account.num_accounts)"
   ]
  },
  {
   "cell_type": "code",
   "execution_count": 99,
   "metadata": {},
   "outputs": [
    {
     "name": "stdout",
     "output_type": "stream",
     "text": [
      "0\n"
     ]
    }
   ],
   "source": [
    "print(Account.num_accounts)"
   ]
  },
  {
   "cell_type": "code",
   "execution_count": 100,
   "metadata": {},
   "outputs": [],
   "source": [
    "class Account:\n",
    "        num_accounts = 0\n",
    "        def __init__(self, name):\n",
    "                self.name = name\n",
    "                Account.num_accounts += 1\n",
    "        def __del__(self):\n",
    "                Account.num_accounts -= 1"
   ]
  },
  {
   "cell_type": "code",
   "execution_count": 101,
   "metadata": {},
   "outputs": [
    {
     "name": "stdout",
     "output_type": "stream",
     "text": [
      "kim\n",
      "0\n"
     ]
    }
   ],
   "source": [
    "kim=Account(\"kim\")\n",
    "print(kim.name)\n",
    "print(kim.num_accounts)"
   ]
  },
  {
   "cell_type": "code",
   "execution_count": 102,
   "metadata": {},
   "outputs": [
    {
     "name": "stdout",
     "output_type": "stream",
     "text": [
      "kim\n"
     ]
    }
   ],
   "source": [
    "print(kim.name)"
   ]
  },
  {
   "cell_type": "code",
   "execution_count": 103,
   "metadata": {},
   "outputs": [
    {
     "data": {
      "text/plain": [
       "0"
      ]
     },
     "execution_count": 103,
     "metadata": {},
     "output_type": "execute_result"
    }
   ],
   "source": [
    "Account.num_accounts"
   ]
  },
  {
   "cell_type": "code",
   "execution_count": 108,
   "metadata": {},
   "outputs": [
    {
     "data": {
      "text/plain": [
       "1"
      ]
     },
     "execution_count": 108,
     "metadata": {},
     "output_type": "execute_result"
    }
   ],
   "source": [
    "park = Account(\"Park\")\n",
    "park.num_accounts"
   ]
  },
  {
   "cell_type": "code",
   "execution_count": 109,
   "metadata": {},
   "outputs": [
    {
     "data": {
      "text/plain": [
       "2"
      ]
     },
     "execution_count": 109,
     "metadata": {},
     "output_type": "execute_result"
    }
   ],
   "source": [
    "Yoon = Account(\"Yoon\")\n",
    "Account.num_accounts"
   ]
  },
  {
   "cell_type": "markdown",
   "metadata": {},
   "source": [
    "# num_accounts 변수 오류(↑)"
   ]
  },
  {
   "cell_type": "code",
   "execution_count": 110,
   "metadata": {},
   "outputs": [
    {
     "name": "stdout",
     "output_type": "stream",
     "text": [
      "Sing a song\n"
     ]
    }
   ],
   "source": [
    "class Parent:\n",
    "        def can_sing(self):\n",
    "                print(\"Sing a song\")\n",
    "father = Parent()\n",
    "father.can_sing()"
   ]
  },
  {
   "cell_type": "code",
   "execution_count": 111,
   "metadata": {},
   "outputs": [
    {
     "name": "stdout",
     "output_type": "stream",
     "text": [
      "Sing a song\n"
     ]
    },
    {
     "ename": "AttributeError",
     "evalue": "'UnLuckyChild' object has no attribute 'can_sing'",
     "output_type": "error",
     "traceback": [
      "\u001b[1;31m---------------------------------------------------------------------------\u001b[0m",
      "\u001b[1;31mAttributeError\u001b[0m                            Traceback (most recent call last)",
      "\u001b[1;32m<ipython-input-111-3cf6d656d439>\u001b[0m in \u001b[0;36m<module>\u001b[1;34m\u001b[0m\n\u001b[0;32m      7\u001b[0m     \u001b[1;32mpass\u001b[0m\u001b[1;33m\u001b[0m\u001b[1;33m\u001b[0m\u001b[0m\n\u001b[0;32m      8\u001b[0m \u001b[0mchild2\u001b[0m \u001b[1;33m=\u001b[0m \u001b[0mUnLuckyChild\u001b[0m\u001b[1;33m(\u001b[0m\u001b[1;33m)\u001b[0m\u001b[1;33m\u001b[0m\u001b[1;33m\u001b[0m\u001b[0m\n\u001b[1;32m----> 9\u001b[1;33m \u001b[0mchild2\u001b[0m\u001b[1;33m.\u001b[0m\u001b[0mcan_sing\u001b[0m\u001b[1;33m(\u001b[0m\u001b[1;33m)\u001b[0m\u001b[1;33m\u001b[0m\u001b[1;33m\u001b[0m\u001b[0m\n\u001b[0m",
      "\u001b[1;31mAttributeError\u001b[0m: 'UnLuckyChild' object has no attribute 'can_sing'"
     ]
    }
   ],
   "source": [
    "class LuckyChild(Parent):\n",
    "    pass\n",
    "child1 = LuckyChild()\n",
    "child1.can_sing()\n",
    "\n",
    "class UnLuckyChild:\n",
    "    pass\n",
    "child2 = UnLuckyChild()\n",
    "child2.can_sing()"
   ]
  },
  {
   "cell_type": "code",
   "execution_count": 112,
   "metadata": {},
   "outputs": [
    {
     "name": "stdout",
     "output_type": "stream",
     "text": [
      "Sing a song\n",
      "Shuffle Dance\n"
     ]
    }
   ],
   "source": [
    "class LuckyChild2(Parent):\n",
    "        def can_dance(self):\n",
    "                print(\"Shuffle Dance\")\n",
    "child2=LuckyChild2()\n",
    "child2.can_sing()\n",
    "child2.can_dance()"
   ]
  },
  {
   "cell_type": "markdown",
   "metadata": {},
   "source": [
    "## 연습문제 06"
   ]
  },
  {
   "cell_type": "code",
   "execution_count": 118,
   "metadata": {},
   "outputs": [
    {
     "name": "stdout",
     "output_type": "stream",
     "text": [
      "(1, 2)\n",
      "(3, 4)\n",
      "(4, 6)\n"
     ]
    }
   ],
   "source": [
    "class Point():\n",
    "    def __init__(self, x, y):\n",
    "        self.x = x\n",
    "        self.y = y        \n",
    "    def setx(self,x):\n",
    "        self.x = x\n",
    "    def sety(self,y):\n",
    "        self.y = y\n",
    "    def get(self):\n",
    "        return((self.x, self.y))\n",
    "    def move(self,dx,dy):\n",
    "        self.x = self.x + dx\n",
    "        self.y = self.y + dy\n",
    "a=Point(1,2)\n",
    "print(a.get())\n",
    "\n",
    "a.setx(3)\n",
    "a.sety(4)\n",
    "print(a.get())\n",
    "\n",
    "a.move(1,2)\n",
    "print(a.get())"
   ]
  },
  {
   "cell_type": "markdown",
   "metadata": {},
   "source": [
    "## 07. 파일 다루기"
   ]
  },
  {
   "cell_type": "code",
   "execution_count": 123,
   "metadata": {},
   "outputs": [
    {
     "data": {
      "text/plain": [
       "['NAVER\\n', '현대차\\n', '기아차\\n']"
      ]
     },
     "execution_count": 123,
     "metadata": {},
     "output_type": "execute_result"
    }
   ],
   "source": [
    "f = open('C:\\\\buy_list.txt', 'rt', encoding='UTF8')\n",
    "lines = f.readlines()\n",
    "lines"
   ]
  },
  {
   "cell_type": "code",
   "execution_count": 124,
   "metadata": {},
   "outputs": [
    {
     "name": "stdout",
     "output_type": "stream",
     "text": [
      "NAVER\n",
      "\n",
      "현대차\n",
      "\n",
      "기아차\n",
      "\n"
     ]
    }
   ],
   "source": [
    "for line in lines:\n",
    "    print(line)"
   ]
  },
  {
   "cell_type": "code",
   "execution_count": 125,
   "metadata": {},
   "outputs": [
    {
     "name": "stdout",
     "output_type": "stream",
     "text": [
      "NAVER\n",
      "현대차\n",
      "기아차\n"
     ]
    }
   ],
   "source": [
    "for line in lines:\n",
    "    print(line, end=\"\")"
   ]
  },
  {
   "cell_type": "code",
   "execution_count": 127,
   "metadata": {},
   "outputs": [],
   "source": [
    "f=open('D:\\\\test\\\\sell_list.txt', 'wt')"
   ]
  },
  {
   "cell_type": "code",
   "execution_count": 128,
   "metadata": {},
   "outputs": [
    {
     "data": {
      "text/plain": [
       "5"
      ]
     },
     "execution_count": 128,
     "metadata": {},
     "output_type": "execute_result"
    }
   ],
   "source": [
    "f.write('삼성전자\\n')"
   ]
  },
  {
   "cell_type": "code",
   "execution_count": 129,
   "metadata": {},
   "outputs": [
    {
     "data": {
      "text/plain": [
       "7"
      ]
     },
     "execution_count": 129,
     "metadata": {},
     "output_type": "execute_result"
    }
   ],
   "source": [
    "f.write('SK하이닉스\\n')"
   ]
  },
  {
   "cell_type": "code",
   "execution_count": 130,
   "metadata": {},
   "outputs": [],
   "source": [
    "f.close()"
   ]
  },
  {
   "cell_type": "code",
   "execution_count": 131,
   "metadata": {},
   "outputs": [
    {
     "ename": "TypeError",
     "evalue": "write() takes exactly one argument (2 given)",
     "output_type": "error",
     "traceback": [
      "\u001b[1;31m---------------------------------------------------------------------------\u001b[0m",
      "\u001b[1;31mTypeError\u001b[0m                                 Traceback (most recent call last)",
      "\u001b[1;32m<ipython-input-131-f52c1e678187>\u001b[0m in \u001b[0;36m<module>\u001b[1;34m\u001b[0m\n\u001b[0;32m      1\u001b[0m \u001b[0mt\u001b[0m\u001b[1;33m=\u001b[0m\u001b[0mopen\u001b[0m\u001b[1;33m(\u001b[0m\u001b[1;34m'D:\\\\test\\\\number.txt'\u001b[0m\u001b[1;33m,\u001b[0m \u001b[1;34m'wt'\u001b[0m\u001b[1;33m)\u001b[0m\u001b[1;33m\u001b[0m\u001b[1;33m\u001b[0m\u001b[0m\n\u001b[0;32m      2\u001b[0m \u001b[1;32mfor\u001b[0m \u001b[0mi\u001b[0m \u001b[1;32min\u001b[0m \u001b[0mrange\u001b[0m\u001b[1;33m(\u001b[0m\u001b[1;36m10\u001b[0m\u001b[1;33m)\u001b[0m\u001b[1;33m:\u001b[0m\u001b[1;33m\u001b[0m\u001b[1;33m\u001b[0m\u001b[0m\n\u001b[1;32m----> 3\u001b[1;33m     \u001b[0mt\u001b[0m\u001b[1;33m.\u001b[0m\u001b[0mwrite\u001b[0m\u001b[1;33m(\u001b[0m\u001b[0mi\u001b[0m\u001b[1;33m,\u001b[0m\u001b[1;34m\"\\n\"\u001b[0m\u001b[1;33m)\u001b[0m\u001b[1;33m\u001b[0m\u001b[1;33m\u001b[0m\u001b[0m\n\u001b[0m\u001b[0;32m      4\u001b[0m \u001b[1;33m\u001b[0m\u001b[0m\n",
      "\u001b[1;31mTypeError\u001b[0m: write() takes exactly one argument (2 given)"
     ]
    }
   ],
   "source": [
    "t=open('D:\\\\test\\\\number.txt', 'wt')\n",
    "for i in range(10):\n",
    "    t.write(i,\"\\n\")\n",
    "    "
   ]
  },
  {
   "cell_type": "code",
   "execution_count": 134,
   "metadata": {},
   "outputs": [],
   "source": [
    "t=open('D:\\\\test\\\\number.txt', 'wt')\n",
    "for i in range(1,11):\n",
    "    t.write('%d\\n' % i)\n",
    "f.close()\n",
    "    "
   ]
  },
  {
   "cell_type": "code",
   "execution_count": 139,
   "metadata": {},
   "outputs": [],
   "source": [
    "import os\n",
    "\n",
    "def file_listing(directory):\n",
    "    f=open('D:\\\\test\\\\flist.txt', 'wt')\n",
    "    for file in os.listdir(directory):\n",
    "        f.write('%s\\n' % file)\n",
    "f.close()\n",
    "file_listing('c:\\\\')"
   ]
  },
  {
   "cell_type": "code",
   "execution_count": null,
   "metadata": {},
   "outputs": [],
   "source": []
  }
 ],
 "metadata": {
  "kernelspec": {
   "display_name": "Python 3",
   "language": "python",
   "name": "python3"
  },
  "language_info": {
   "codemirror_mode": {
    "name": "ipython",
    "version": 3
   },
   "file_extension": ".py",
   "mimetype": "text/x-python",
   "name": "python",
   "nbconvert_exporter": "python",
   "pygments_lexer": "ipython3",
   "version": "3.7.3"
  }
 },
 "nbformat": 4,
 "nbformat_minor": 2
}
